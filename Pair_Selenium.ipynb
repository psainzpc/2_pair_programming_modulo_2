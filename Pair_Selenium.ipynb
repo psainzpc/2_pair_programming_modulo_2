{
 "cells": [
  {
   "cell_type": "code",
   "execution_count": 1,
   "metadata": {},
   "outputs": [],
   "source": [
    "# Importar librerías para tratamiento de datos\n",
    "# -----------------------------------------------------------------------\n",
    "import pandas as pd  # Pandas es una poderosa librería para manipulación y análisis de datos en Python.\n",
    "\n",
    "# Importar librerías para web scraping y manipulación de datos\n",
    "# -----------------------------------------------------------------------\n",
    "from bs4 import BeautifulSoup\n",
    "import requests\n",
    "\n",
    "# Importar librerías para automatización de navegadores web con Selenium\n",
    "# -----------------------------------------------------------------------\n",
    "from selenium import webdriver  # Selenium es una herramienta para automatizar la interacción con navegadores web.\n",
    "from webdriver_manager.chrome import ChromeDriverManager  # ChromeDriverManager gestiona la instalación del controlador de Chrome.\n",
    "from selenium.webdriver.common.keys import Keys  # Keys es útil para simular eventos de teclado en Selenium.\n",
    "from selenium.webdriver.support.ui import Select  # Select se utiliza para interactuar con elementos <select> en páginas web.\n",
    "\n",
    "# Importar librerías para pausar la ejecución\n",
    "# -----------------------------------------------------------------------\n",
    "from time import sleep  # Sleep se utiliza para pausar la ejecución del programa por un número de segundos.\n",
    "\n",
    "# Configuraciones\n",
    "# -----------------------------------------------------------------------\n",
    "pd.set_option('display.max_columns', None)  # Establece una opción de Pandas para mostrar todas las columnas de un DataFrame."
   ]
  },
  {
   "cell_type": "code",
   "execution_count": 18,
   "metadata": {},
   "outputs": [
    {
     "name": "stderr",
     "output_type": "stream",
     "text": [
      "<>:23: SyntaxWarning: invalid escape sequence '\\:'\n",
      "<>:23: SyntaxWarning: invalid escape sequence '\\:'\n",
      "/var/folders/_8/rv04zc812vngdv98w27kqfbw0000gp/T/ipykernel_75177/3843987541.py:23: SyntaxWarning: invalid escape sequence '\\:'\n",
      "  driver.find_element(\"css selector\", \"#main-scroll > div:nth-child(3) > div > ul > li:nth-child(1) > article > a.x-result-link.x-result__description.x-flex.x-flex-col.x-gap-4.desktop\\:x-gap-4 > div > h2.x-text1.x-text1-lg.x-mt-8.x-font-bold.x-uppercase.x-text-neutral-90.x-line-clamp-2\").click()\n"
     ]
    },
    {
     "name": "stdout",
     "output_type": "stream",
     "text": [
      "cookies aceptadas\n",
      "clicando en ficción\n",
      "han pasado 5 segundos\n"
     ]
    },
    {
     "name": "stderr",
     "output_type": "stream",
     "text": [
      "/var/folders/_8/rv04zc812vngdv98w27kqfbw0000gp/T/ipykernel_75177/3843987541.py:23: SyntaxWarning: invalid escape sequence '\\:'\n",
      "  driver.find_element(\"css selector\", \"#main-scroll > div:nth-child(3) > div > ul > li:nth-child(1) > article > a.x-result-link.x-result__description.x-flex.x-flex-col.x-gap-4.desktop\\:x-gap-4 > div > h2.x-text1.x-text1-lg.x-mt-8.x-font-bold.x-uppercase.x-text-neutral-90.x-line-clamp-2\").click()\n"
     ]
    },
    {
     "ename": "NoSuchElementException",
     "evalue": "Message: no such element: Unable to locate element: {\"method\":\"css selector\",\"selector\":\"#main-scroll > div:nth-child(3) > div > ul > li:nth-child(1) > article > a.x-result-link.x-result__description.x-flex.x-flex-col.x-gap-4.desktop\\:x-gap-4 > div > h2.x-text1.x-text1-lg.x-mt-8.x-font-bold.x-uppercase.x-text-neutral-90.x-line-clamp-2\"}\n  (Session info: chrome=130.0.6723.71); For documentation on this error, please visit: https://www.selenium.dev/documentation/webdriver/troubleshooting/errors#no-such-element-exception\nStacktrace:\n0   chromedriver                        0x00000001010fb648 cxxbridge1$str$ptr + 3645404\n1   chromedriver                        0x00000001010f3ea8 cxxbridge1$str$ptr + 3614780\n2   chromedriver                        0x0000000100b60104 cxxbridge1$string$len + 88416\n3   chromedriver                        0x0000000100ba2364 cxxbridge1$string$len + 359360\n4   chromedriver                        0x0000000100bdbbd0 cxxbridge1$string$len + 594988\n5   chromedriver                        0x0000000100b96f54 cxxbridge1$string$len + 313264\n6   chromedriver                        0x0000000100b97ba4 cxxbridge1$string$len + 316416\n7   chromedriver                        0x00000001010c61e8 cxxbridge1$str$ptr + 3427196\n8   chromedriver                        0x00000001010c952c cxxbridge1$str$ptr + 3440320\n9   chromedriver                        0x00000001010ad60c cxxbridge1$str$ptr + 3325856\n10  chromedriver                        0x00000001010c9df0 cxxbridge1$str$ptr + 3442564\n11  chromedriver                        0x000000010109e890 cxxbridge1$str$ptr + 3265060\n12  chromedriver                        0x00000001010e4898 cxxbridge1$str$ptr + 3551788\n13  chromedriver                        0x00000001010e4a14 cxxbridge1$str$ptr + 3552168\n14  chromedriver                        0x00000001010f3b40 cxxbridge1$str$ptr + 3613908\n15  libsystem_pthread.dylib             0x000000018e439f94 _pthread_start + 136\n16  libsystem_pthread.dylib             0x000000018e434d34 thread_start + 8\n",
     "output_type": "error",
     "traceback": [
      "\u001b[0;31m---------------------------------------------------------------------------\u001b[0m",
      "\u001b[0;31mNoSuchElementException\u001b[0m                    Traceback (most recent call last)",
      "Cell \u001b[0;32mIn[18], line 23\u001b[0m\n\u001b[1;32m     20\u001b[0m sleep(\u001b[38;5;241m5\u001b[39m)\n\u001b[1;32m     21\u001b[0m \u001b[38;5;28mprint\u001b[39m(\u001b[38;5;124m\"\u001b[39m\u001b[38;5;124mhan pasado 5 segundos\u001b[39m\u001b[38;5;124m\"\u001b[39m)\n\u001b[0;32m---> 23\u001b[0m driver\u001b[38;5;241m.\u001b[39mfind_element(\u001b[38;5;124m\"\u001b[39m\u001b[38;5;124mcss selector\u001b[39m\u001b[38;5;124m\"\u001b[39m, \u001b[38;5;124m\"\u001b[39m\u001b[38;5;124m#main-scroll > div:nth-child(3) > div > ul > li:nth-child(1) > article > a.x-result-link.x-result__description.x-flex.x-flex-col.x-gap-4.desktop\u001b[39m\u001b[38;5;124m\\\u001b[39m\u001b[38;5;124m:x-gap-4 > div > h2.x-text1.x-text1-lg.x-mt-8.x-font-bold.x-uppercase.x-text-neutral-90.x-line-clamp-2\u001b[39m\u001b[38;5;124m\"\u001b[39m)\u001b[38;5;241m.\u001b[39mclick()\n\u001b[1;32m     24\u001b[0m                                     \u001b[38;5;66;03m#main-scroll > div:nth-child(3) > div > ul > li:nth-child(1) > article > a.x-result-link.x-result__description.x-flex.x-flex-col.x-gap-4.desktop\\:x-gap-4 > div > h2.x-text1.x-text1-lg.x-mt-8.x-font-bold.x-uppercase.x-text-neutral-90.x-line-clamp-2\u001b[39;00m\n\u001b[1;32m     25\u001b[0m                                     \u001b[38;5;66;03m#main-scroll > div:nth-child(3) > div > ul > li:nth-child(1) > article > a.x-result-link.x-result__description.x-flex.x-flex-col.x-gap-4.desktop\\:x-gap-4 > div > h2.x-text1.x-text1-lg.x-mt-8.x-font-bold.x-uppercase.x-text-neutral-90.x-line-clamp-2\u001b[39;00m\n\u001b[1;32m     26\u001b[0m \u001b[38;5;28mprint\u001b[39m(\u001b[38;5;124m\"\u001b[39m\u001b[38;5;124mhemos cliqueado en el elemento\u001b[39m\u001b[38;5;124m\"\u001b[39m)\n",
      "File \u001b[0;32m/opt/anaconda3/lib/python3.12/site-packages/selenium/webdriver/remote/webdriver.py:748\u001b[0m, in \u001b[0;36mWebDriver.find_element\u001b[0;34m(self, by, value)\u001b[0m\n\u001b[1;32m    745\u001b[0m     by \u001b[38;5;241m=\u001b[39m By\u001b[38;5;241m.\u001b[39mCSS_SELECTOR\n\u001b[1;32m    746\u001b[0m     value \u001b[38;5;241m=\u001b[39m \u001b[38;5;124mf\u001b[39m\u001b[38;5;124m'\u001b[39m\u001b[38;5;124m[name=\u001b[39m\u001b[38;5;124m\"\u001b[39m\u001b[38;5;132;01m{\u001b[39;00mvalue\u001b[38;5;132;01m}\u001b[39;00m\u001b[38;5;124m\"\u001b[39m\u001b[38;5;124m]\u001b[39m\u001b[38;5;124m'\u001b[39m\n\u001b[0;32m--> 748\u001b[0m \u001b[38;5;28;01mreturn\u001b[39;00m \u001b[38;5;28mself\u001b[39m\u001b[38;5;241m.\u001b[39mexecute(Command\u001b[38;5;241m.\u001b[39mFIND_ELEMENT, {\u001b[38;5;124m\"\u001b[39m\u001b[38;5;124musing\u001b[39m\u001b[38;5;124m\"\u001b[39m: by, \u001b[38;5;124m\"\u001b[39m\u001b[38;5;124mvalue\u001b[39m\u001b[38;5;124m\"\u001b[39m: value})[\u001b[38;5;124m\"\u001b[39m\u001b[38;5;124mvalue\u001b[39m\u001b[38;5;124m\"\u001b[39m]\n",
      "File \u001b[0;32m/opt/anaconda3/lib/python3.12/site-packages/selenium/webdriver/remote/webdriver.py:354\u001b[0m, in \u001b[0;36mWebDriver.execute\u001b[0;34m(self, driver_command, params)\u001b[0m\n\u001b[1;32m    352\u001b[0m response \u001b[38;5;241m=\u001b[39m \u001b[38;5;28mself\u001b[39m\u001b[38;5;241m.\u001b[39mcommand_executor\u001b[38;5;241m.\u001b[39mexecute(driver_command, params)\n\u001b[1;32m    353\u001b[0m \u001b[38;5;28;01mif\u001b[39;00m response:\n\u001b[0;32m--> 354\u001b[0m     \u001b[38;5;28mself\u001b[39m\u001b[38;5;241m.\u001b[39merror_handler\u001b[38;5;241m.\u001b[39mcheck_response(response)\n\u001b[1;32m    355\u001b[0m     response[\u001b[38;5;124m\"\u001b[39m\u001b[38;5;124mvalue\u001b[39m\u001b[38;5;124m\"\u001b[39m] \u001b[38;5;241m=\u001b[39m \u001b[38;5;28mself\u001b[39m\u001b[38;5;241m.\u001b[39m_unwrap_value(response\u001b[38;5;241m.\u001b[39mget(\u001b[38;5;124m\"\u001b[39m\u001b[38;5;124mvalue\u001b[39m\u001b[38;5;124m\"\u001b[39m, \u001b[38;5;28;01mNone\u001b[39;00m))\n\u001b[1;32m    356\u001b[0m     \u001b[38;5;28;01mreturn\u001b[39;00m response\n",
      "File \u001b[0;32m/opt/anaconda3/lib/python3.12/site-packages/selenium/webdriver/remote/errorhandler.py:229\u001b[0m, in \u001b[0;36mErrorHandler.check_response\u001b[0;34m(self, response)\u001b[0m\n\u001b[1;32m    227\u001b[0m         alert_text \u001b[38;5;241m=\u001b[39m value[\u001b[38;5;124m\"\u001b[39m\u001b[38;5;124malert\u001b[39m\u001b[38;5;124m\"\u001b[39m]\u001b[38;5;241m.\u001b[39mget(\u001b[38;5;124m\"\u001b[39m\u001b[38;5;124mtext\u001b[39m\u001b[38;5;124m\"\u001b[39m)\n\u001b[1;32m    228\u001b[0m     \u001b[38;5;28;01mraise\u001b[39;00m exception_class(message, screen, stacktrace, alert_text)  \u001b[38;5;66;03m# type: ignore[call-arg]  # mypy is not smart enough here\u001b[39;00m\n\u001b[0;32m--> 229\u001b[0m \u001b[38;5;28;01mraise\u001b[39;00m exception_class(message, screen, stacktrace)\n",
      "\u001b[0;31mNoSuchElementException\u001b[0m: Message: no such element: Unable to locate element: {\"method\":\"css selector\",\"selector\":\"#main-scroll > div:nth-child(3) > div > ul > li:nth-child(1) > article > a.x-result-link.x-result__description.x-flex.x-flex-col.x-gap-4.desktop\\:x-gap-4 > div > h2.x-text1.x-text1-lg.x-mt-8.x-font-bold.x-uppercase.x-text-neutral-90.x-line-clamp-2\"}\n  (Session info: chrome=130.0.6723.71); For documentation on this error, please visit: https://www.selenium.dev/documentation/webdriver/troubleshooting/errors#no-such-element-exception\nStacktrace:\n0   chromedriver                        0x00000001010fb648 cxxbridge1$str$ptr + 3645404\n1   chromedriver                        0x00000001010f3ea8 cxxbridge1$str$ptr + 3614780\n2   chromedriver                        0x0000000100b60104 cxxbridge1$string$len + 88416\n3   chromedriver                        0x0000000100ba2364 cxxbridge1$string$len + 359360\n4   chromedriver                        0x0000000100bdbbd0 cxxbridge1$string$len + 594988\n5   chromedriver                        0x0000000100b96f54 cxxbridge1$string$len + 313264\n6   chromedriver                        0x0000000100b97ba4 cxxbridge1$string$len + 316416\n7   chromedriver                        0x00000001010c61e8 cxxbridge1$str$ptr + 3427196\n8   chromedriver                        0x00000001010c952c cxxbridge1$str$ptr + 3440320\n9   chromedriver                        0x00000001010ad60c cxxbridge1$str$ptr + 3325856\n10  chromedriver                        0x00000001010c9df0 cxxbridge1$str$ptr + 3442564\n11  chromedriver                        0x000000010109e890 cxxbridge1$str$ptr + 3265060\n12  chromedriver                        0x00000001010e4898 cxxbridge1$str$ptr + 3551788\n13  chromedriver                        0x00000001010e4a14 cxxbridge1$str$ptr + 3552168\n14  chromedriver                        0x00000001010f3b40 cxxbridge1$str$ptr + 3613908\n15  libsystem_pthread.dylib             0x000000018e439f94 _pthread_start + 136\n16  libsystem_pthread.dylib             0x000000018e434d34 thread_start + 8\n"
     ]
    }
   ],
   "source": [
    "# Inicializa el navegador Chrome\n",
    "driver = webdriver.Chrome()\n",
    "\n",
    "driver.maximize_window()\n",
    "\n",
    "driver.get(\"https://www.casadellibro.com/\")\n",
    "\n",
    "sleep(2)\n",
    "\n",
    "driver.find_element(\"css selector\", \"#onetrust-accept-btn-handler\").click()\n",
    "\n",
    "print(\"cookies aceptadas\")\n",
    "\n",
    "sleep(2)\n",
    "\n",
    "driver.find_element(\"css selector\", \"#App > div.cabecera.svelte-1iqjtwo > div.d-grid.pt-2.svelte-1iqjtwo > div.buscador.svelte-mxwtom > label\").send_keys(\"ficción\", Keys.ENTER)\n",
    "\n",
    "print(\"clicando en ficción\")\n",
    "\n",
    "sleep(5)\n",
    "print(\"han pasado 5 segundos\")\n",
    "\n",
    "driver.find_element(\"css selector\", \"#main-scroll > div:nth-child(3) > div > ul > li:nth-child(1) > article > a.x-result-link.x-result__description.x-flex.x-flex-col.x-gap-4.desktop\\:x-gap-4 > div > h2.x-text1.x-text1-lg.x-mt-8.x-font-bold.x-uppercase.x-text-neutral-90.x-line-clamp-2\").click()\n",
    "                                    #main-scroll > div:nth-child(3) > div > ul > li:nth-child(1) > article > a.x-result-link.x-result__description.x-flex.x-flex-col.x-gap-4.desktop\\:x-gap-4 > div > h2.x-text1.x-text1-lg.x-mt-8.x-font-bold.x-uppercase.x-text-neutral-90.x-line-clamp-2\n",
    "                                    #main-scroll > div:nth-child(3) > div > ul > li:nth-child(1) > article > a.x-result-link.x-result__description.x-flex.x-flex-col.x-gap-4.desktop\\:x-gap-4 > div > h2.x-text1.x-text1-lg.x-mt-8.x-font-bold.x-uppercase.x-text-neutral-90.x-line-clamp-2\n",
    "print(\"hemos cliqueado en el elemento\")\n",
    "sleep(2)\n",
    "\n",
    "driver.close()"
   ]
  },
  {
   "cell_type": "code",
   "execution_count": null,
   "metadata": {},
   "outputs": [],
   "source": []
  },
  {
   "cell_type": "code",
   "execution_count": null,
   "metadata": {},
   "outputs": [],
   "source": []
  }
 ],
 "metadata": {
  "kernelspec": {
   "display_name": "base",
   "language": "python",
   "name": "python3"
  },
  "language_info": {
   "codemirror_mode": {
    "name": "ipython",
    "version": 3
   },
   "file_extension": ".py",
   "mimetype": "text/x-python",
   "name": "python",
   "nbconvert_exporter": "python",
   "pygments_lexer": "ipython3",
   "version": "3.12.4"
  }
 },
 "nbformat": 4,
 "nbformat_minor": 2
}
